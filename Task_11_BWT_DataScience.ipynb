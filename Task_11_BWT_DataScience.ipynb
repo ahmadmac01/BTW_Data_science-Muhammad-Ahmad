{
  "nbformat": 4,
  "nbformat_minor": 0,
  "metadata": {
    "colab": {
      "provenance": []
    },
    "kernelspec": {
      "name": "python3",
      "display_name": "Python 3"
    },
    "language_info": {
      "name": "python"
    }
  },
  "cells": [
    {
      "cell_type": "code",
      "execution_count": null,
      "metadata": {
        "id": "WWJ6j5hDnGfB"
      },
      "outputs": [],
      "source": []
    },
    {
      "cell_type": "markdown",
      "source": [
        "# **Exercise Questions**"
      ],
      "metadata": {
        "id": "8dFNxFkInY05"
      }
    },
    {
      "cell_type": "markdown",
      "source": [
        "\n",
        "\n",
        "## **1.   Define ML**\n",
        "Machine Learning (ML) is a field of artificial intelligence that involves the development of algorithms and statistical models that enable computers to perform specific tasks without explicit programming.\n",
        "\n",
        "\n",
        "\n",
        "\n"
      ],
      "metadata": {
        "id": "eoFoS9WEnknu"
      }
    },
    {
      "cell_type": "markdown",
      "source": [
        "\n",
        "\n",
        "## 2.  **Can you name four types of problems where it shines?**\n",
        "* Classification: Identifying the class an object belongs to. (spam detection)\n",
        "\n",
        "* Regression: Predicting a continuous value ( house prices, stock prices).\n",
        "* Clustering: Grouping similar items together without predefined labels (e.g., customer segmentation).\n",
        "* Anomaly Detection\n"
      ],
      "metadata": {
        "id": "gynsFXfEoCmV"
      }
    },
    {
      "cell_type": "markdown",
      "source": [
        "## 3. What is a labeled training set?\n",
        "A labeled training set is a dataset used in supervised learning that includes both the input data and label. This allows the algorithm to learn the relationship between inputs and outputs.\n",
        "\n",
        "## 4. What are the two most common supervised tasks?\n",
        "* Classification: Assigning labels to instances (e.g., spam or non spam emails).\n",
        "* Regression: Predicting continuous values (e.g., predicting the price of a house).\n",
        "\n",
        "## 5. Can you name four common unsupervised tasks?\n",
        "* Clustering\n",
        "* Dimensionality Reduction\n",
        "* Anomaly Detection\n",
        "* Association Rule Learning"
      ],
      "metadata": {
        "id": "k3WGXz6foxOX"
      }
    },
    {
      "cell_type": "markdown",
      "source": [
        "## 6. What type of Machine Learning algorithm would you use to allow a robot to walk in various unknown terrains?\n",
        "A Reinforcement Learning algorithm would be suitable as it enables the robot to learn how to walk by interacting with the environment and receiving feedback based on its actions.\n",
        "\n",
        "## 7. What type of algorithm would you use to segment your customers into multiple groups?\n",
        "A Clustering algorithm, such as K-Means or hierarchical clustering, would be used to segment customers into multiple groups based on their characteristics and behaviors.\n",
        "\n",
        "## 8. Would you frame the problem of spam detection as a supervised learning problem or an unsupervised learning problem?\n",
        "Spam detection is typically framed as a supervised learning problem because it involves training the model on a labeled dataset containing examples of spam and non-spam emails.\n",
        "\n",
        "## 9. What is an online learning system?\n",
        "An online learning system is a machine learning model that learns incrementally, one instance at a time, allowing it to update its parameters continuously as new data arrives. This is useful for applications where data arrives in a stream and needs to be processed in real-time.\n",
        "\n",
        "## 10. What is out-of-core learning?\n",
        "Out-of-core learning refers to techniques used to train machine learning models on datasets that are too large to fit into a computer's main memory. These techniques load and process data in small chunks, allowing the model to learn from large datasets without requiring all data to be in memory at once.\n",
        "\n",
        "## 11. What type of learning algorithm relies on a similarity measure to make predictions?\n",
        "A Instance-based learning algorithm, such as K-Nearest Neighbors (KNN), relies on a similarity measure to make predictions by comparing new instances with instances from the training set.\n",
        "\n",
        "## 12. What is the difference between a model parameter and a learning algorithm’s hyperparameter?\n",
        "* Model Parameter: Internal variables of the model that are learned from the training data\n",
        "* Hyperparameter: Configuration settings used to tune the learning process, not learned from the data but set before training.\n",
        "\n",
        "## 13. What do model-based learning algorithms search for? What is the most common strategy they use to succeed? How do they make predictions?\n",
        "Model-based learning algorithms search for the optimal parameters that best fit the training data. The most common strategy is to minimize a loss function, such as Mean Squared Error for regression or cross-entropy for classification. They make predictions by applying the learned model parameters to new data.\n",
        "\n",
        "## 14. Can you name four of the main challenges in Machine Learning?\n",
        "Insufficient Quantity of Training Data: Not having enough labeled data to train the model effectively.\n",
        "Nonrepresentative Training Data: The training data does not accurately represent the real-world scenario.\n",
        "Poor Data Quality: Noisy, incomplete, or inconsistent data can lead to poor model performance.\n",
        "Overfitting: The model performs well on training data but poorly on new, unseen data.\n",
        "## 15. If your model performs great on the training data but generalizes poorly to new instances, what is happening? Can you name three possible solutions?\n",
        "This is likely due to overfitting. Possible solutions include\n",
        "* Regularization: Adding constraints to the model.\n",
        "* Simplifying the Model: Reducing the model's complexity.\n",
        "* Cross-Validation: Using techniques like k-fold cross-validation to ensure the model generalizes well to new data.\n",
        "\n",
        "## 16. What is a test set and why would you want to use it?\n",
        "A test set is a separate portion of the dataset that is not used during training but is used to evaluate the performance of the model. It provides an unbiased evaluation of the model's ability to generalize to new, unseen data."
      ],
      "metadata": {
        "id": "KsuUiiSCpspT"
      }
    },
    {
      "cell_type": "code",
      "source": [],
      "metadata": {
        "id": "3pgSnHKJnibq"
      },
      "execution_count": null,
      "outputs": []
    }
  ]
}