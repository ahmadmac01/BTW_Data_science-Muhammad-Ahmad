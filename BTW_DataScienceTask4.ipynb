{
  "nbformat": 4,
  "nbformat_minor": 0,
  "metadata": {
    "colab": {
      "provenance": []
    },
    "kernelspec": {
      "name": "python3",
      "display_name": "Python 3"
    },
    "language_info": {
      "name": "python"
    }
  },
  "cells": [
    {
      "cell_type": "code",
      "execution_count": 1,
      "metadata": {
        "colab": {
          "base_uri": "https://localhost:8080/"
        },
        "id": "FGSApEN23psQ",
        "outputId": "f1e34224-d741-4a88-8c9a-9a9ed9290c09"
      },
      "outputs": [
        {
          "output_type": "stream",
          "name": "stdout",
          "text": [
            "Hello World\n"
          ]
        }
      ],
      "source": [
        "print(\"Hello World\")"
      ]
    },
    {
      "cell_type": "markdown",
      "source": [
        "## Variables"
      ],
      "metadata": {
        "id": "xxXLUhJe4BYO"
      }
    },
    {
      "cell_type": "code",
      "source": [
        "message = \"Hello Python World!\"\n",
        "print(message)"
      ],
      "metadata": {
        "colab": {
          "base_uri": "https://localhost:8080/"
        },
        "id": "0eFh6G8W338j",
        "outputId": "6d955bfb-fc2d-443d-f2b7-6e7025a2c780"
      },
      "execution_count": 2,
      "outputs": [
        {
          "output_type": "stream",
          "name": "stdout",
          "text": [
            "Hello Python World!\n"
          ]
        }
      ]
    },
    {
      "cell_type": "code",
      "source": [
        "message= \"BTW Data Science Fellowship\"\n",
        "print(message)"
      ],
      "metadata": {
        "colab": {
          "base_uri": "https://localhost:8080/"
        },
        "id": "ycO2K7XR4Ms4",
        "outputId": "0ce4cb60-1f84-4265-f5dc-f50c9d47a0f1"
      },
      "execution_count": 3,
      "outputs": [
        {
          "output_type": "stream",
          "name": "stdout",
          "text": [
            "BTW Data Science Fellowship\n"
          ]
        }
      ]
    },
    {
      "cell_type": "code",
      "source": [
        "new_message= \"BTW Data Science Fellowship!\"\n",
        "print(new_message)"
      ],
      "metadata": {
        "colab": {
          "base_uri": "https://localhost:8080/"
        },
        "id": "asNYblAA4pHN",
        "outputId": "cd1e2eba-8b35-4a0d-a112-be9687176682"
      },
      "execution_count": 4,
      "outputs": [
        {
          "output_type": "stream",
          "name": "stdout",
          "text": [
            "BTW Data Science Fellowship!\n"
          ]
        }
      ]
    },
    {
      "cell_type": "code",
      "source": [
        "name = \"BTW Data science\"\n",
        "print(name.title())"
      ],
      "metadata": {
        "colab": {
          "base_uri": "https://localhost:8080/"
        },
        "id": "b7nMmdoI4xfH",
        "outputId": "4e4518c6-2e43-4ca1-d100-7ec8d1f82489"
      },
      "execution_count": 6,
      "outputs": [
        {
          "output_type": "stream",
          "name": "stdout",
          "text": [
            "Btw Data Science\n"
          ]
        }
      ]
    },
    {
      "cell_type": "code",
      "source": [
        "print(name.upper())\n",
        "print(name.lower())"
      ],
      "metadata": {
        "colab": {
          "base_uri": "https://localhost:8080/"
        },
        "id": "EQ1g8Ec3460t",
        "outputId": "f6c2522f-0eb1-4622-da64-7fae0dc11e2c"
      },
      "execution_count": 7,
      "outputs": [
        {
          "output_type": "stream",
          "name": "stdout",
          "text": [
            "BTW DATA SCIENCE\n",
            "btw data science\n"
          ]
        }
      ]
    },
    {
      "cell_type": "code",
      "source": [
        "first_name = \"ada\"\n",
        "last_name = \"lovelace\"\n",
        "full_name = first_name + \" \" + last_name\n",
        "print(full_name)"
      ],
      "metadata": {
        "colab": {
          "base_uri": "https://localhost:8080/"
        },
        "id": "hh516KIM5DlJ",
        "outputId": "1e485913-2ac7-458e-b8d3-31fb906fef35"
      },
      "execution_count": 8,
      "outputs": [
        {
          "output_type": "stream",
          "name": "stdout",
          "text": [
            "ada lovelace\n"
          ]
        }
      ]
    },
    {
      "cell_type": "code",
      "source": [
        "name = \"ada lovelace\"\n",
        "print(f\"Hello {name} Would you like to learn python today?\")"
      ],
      "metadata": {
        "colab": {
          "base_uri": "https://localhost:8080/"
        },
        "id": "8juge-mC5Iuw",
        "outputId": "c670792c-4884-47f5-cc31-ee8d3056ef1d"
      },
      "execution_count": 9,
      "outputs": [
        {
          "output_type": "stream",
          "name": "stdout",
          "text": [
            "Hello ada lovelace Would you like to learn python today?\n"
          ]
        }
      ]
    },
    {
      "cell_type": "code",
      "source": [
        "print(name.title())\n",
        "print(name.upper())\n",
        "print(name.lower())"
      ],
      "metadata": {
        "colab": {
          "base_uri": "https://localhost:8080/"
        },
        "id": "WjlJcxNi5ha9",
        "outputId": "f272b1a6-9d46-4455-c0ab-b4a70d3a960d"
      },
      "execution_count": 10,
      "outputs": [
        {
          "output_type": "stream",
          "name": "stdout",
          "text": [
            "Ada Lovelace\n",
            "ADA LOVELACE\n",
            "ada lovelace\n"
          ]
        }
      ]
    },
    {
      "cell_type": "code",
      "source": [
        "2+3"
      ],
      "metadata": {
        "colab": {
          "base_uri": "https://localhost:8080/"
        },
        "id": "B81wclHR5qtB",
        "outputId": "954ccaa2-5bbf-4295-dee3-fb5286163d61"
      },
      "execution_count": 11,
      "outputs": [
        {
          "output_type": "execute_result",
          "data": {
            "text/plain": [
              "5"
            ]
          },
          "metadata": {},
          "execution_count": 11
        }
      ]
    },
    {
      "cell_type": "code",
      "source": [
        "3*3"
      ],
      "metadata": {
        "colab": {
          "base_uri": "https://localhost:8080/"
        },
        "id": "w6ZA_8tP5x5T",
        "outputId": "b1bedd58-5476-4bc0-f1b6-009844fdf709"
      },
      "execution_count": 12,
      "outputs": [
        {
          "output_type": "execute_result",
          "data": {
            "text/plain": [
              "9"
            ]
          },
          "metadata": {},
          "execution_count": 12
        }
      ]
    },
    {
      "cell_type": "code",
      "source": [
        "(2 + 3) * 4"
      ],
      "metadata": {
        "colab": {
          "base_uri": "https://localhost:8080/"
        },
        "id": "O_ZAmtk15znN",
        "outputId": "599e0d90-3987-476d-f87e-7fc1e6c359ab"
      },
      "execution_count": 13,
      "outputs": [
        {
          "output_type": "execute_result",
          "data": {
            "text/plain": [
              "20"
            ]
          },
          "metadata": {},
          "execution_count": 13
        }
      ]
    },
    {
      "cell_type": "code",
      "source": [
        "2 * 0.2"
      ],
      "metadata": {
        "colab": {
          "base_uri": "https://localhost:8080/"
        },
        "id": "8NaHUziK52yx",
        "outputId": "c6b58415-978d-4900-e383-84c42e667849"
      },
      "execution_count": 14,
      "outputs": [
        {
          "output_type": "execute_result",
          "data": {
            "text/plain": [
              "0.4"
            ]
          },
          "metadata": {},
          "execution_count": 14
        }
      ]
    },
    {
      "cell_type": "code",
      "source": [
        "age = 23\n",
        "message = \"Happy \" + str(age) + \"rd Birthday!\"\n",
        "print(message)"
      ],
      "metadata": {
        "colab": {
          "base_uri": "https://localhost:8080/"
        },
        "id": "QQe-gbX756E7",
        "outputId": "dcf40db0-40b0-44ce-9143-4380f81856ce"
      },
      "execution_count": 16,
      "outputs": [
        {
          "output_type": "stream",
          "name": "stdout",
          "text": [
            "Happy 23rd Birthday!\n"
          ]
        }
      ]
    },
    {
      "cell_type": "code",
      "source": [
        "3.0 / 2.0"
      ],
      "metadata": {
        "colab": {
          "base_uri": "https://localhost:8080/"
        },
        "id": "zIzSFSUj59dG",
        "outputId": "d774966e-e97f-4f9c-825f-6831d42f58d4"
      },
      "execution_count": 17,
      "outputs": [
        {
          "output_type": "execute_result",
          "data": {
            "text/plain": [
              "1.5"
            ]
          },
          "metadata": {},
          "execution_count": 17
        }
      ]
    },
    {
      "cell_type": "code",
      "source": [
        "print(5+3)\n",
        "print(10-2)\n",
        "print(4*2)\n",
        "print(16//2)"
      ],
      "metadata": {
        "colab": {
          "base_uri": "https://localhost:8080/"
        },
        "id": "hmlv7e0U6H5j",
        "outputId": "4af12a51-0ca9-4bb4-c01f-94ba0dac58b8"
      },
      "execution_count": 20,
      "outputs": [
        {
          "output_type": "stream",
          "name": "stdout",
          "text": [
            "8\n",
            "8\n",
            "8\n",
            "8\n"
          ]
        }
      ]
    },
    {
      "cell_type": "code",
      "source": [
        "fvt_num = 5\n",
        "print(f\"My favorite number is {fvt_num}\")"
      ],
      "metadata": {
        "colab": {
          "base_uri": "https://localhost:8080/"
        },
        "id": "yXYmiy-m6VXg",
        "outputId": "7da97dca-3d56-4bba-aa8c-cdb677dbd0ff"
      },
      "execution_count": 21,
      "outputs": [
        {
          "output_type": "stream",
          "name": "stdout",
          "text": [
            "My favorite number is 5\n"
          ]
        }
      ]
    },
    {
      "cell_type": "code",
      "source": [
        "num =6\n",
        "if(num%2==0):\n",
        "    print(\"Even\")\n",
        "else:\n",
        "    print(\"Odd\")"
      ],
      "metadata": {
        "colab": {
          "base_uri": "https://localhost:8080/"
        },
        "id": "mbI1U_KG6fVi",
        "outputId": "3c682146-2ee4-4a0a-97c6-20d760a5ed17"
      },
      "execution_count": 22,
      "outputs": [
        {
          "output_type": "stream",
          "name": "stdout",
          "text": [
            "Even\n"
          ]
        }
      ]
    },
    {
      "cell_type": "code",
      "source": [
        "if(num>=0):\n",
        "    print(\"Positive\")\n",
        "elif(num==0):\n",
        "    print(\"Zero\")\n",
        "else:\n",
        "    print(\"Negative\")"
      ],
      "metadata": {
        "colab": {
          "base_uri": "https://localhost:8080/"
        },
        "id": "yOsTrqd66uYE",
        "outputId": "c1e68347-ef53-4a5f-e2be-16ffeed39d6a"
      },
      "execution_count": 23,
      "outputs": [
        {
          "output_type": "stream",
          "name": "stdout",
          "text": [
            "Positive\n"
          ]
        }
      ]
    },
    {
      "cell_type": "code",
      "source": [
        "# Assignment operator\n",
        "a=5\n",
        "a+=3\n",
        "print(a)"
      ],
      "metadata": {
        "colab": {
          "base_uri": "https://localhost:8080/"
        },
        "id": "dwbQm8se6ymv",
        "outputId": "020732d8-2a92-4fc9-cfd6-44d0912b0607"
      },
      "execution_count": 24,
      "outputs": [
        {
          "output_type": "stream",
          "name": "stdout",
          "text": [
            "8\n"
          ]
        }
      ]
    },
    {
      "cell_type": "code",
      "source": [
        "b=5\n",
        "b-=3\n",
        "print(b)"
      ],
      "metadata": {
        "colab": {
          "base_uri": "https://localhost:8080/"
        },
        "id": "X2lQajD_65gG",
        "outputId": "5178295b-f7e4-4d26-fc53-14e3ae48ddbd"
      },
      "execution_count": 25,
      "outputs": [
        {
          "output_type": "stream",
          "name": "stdout",
          "text": [
            "2\n"
          ]
        }
      ]
    },
    {
      "cell_type": "code",
      "source": [
        "b*=3\n",
        "print(b)"
      ],
      "metadata": {
        "colab": {
          "base_uri": "https://localhost:8080/"
        },
        "id": "vjY59t-E69lp",
        "outputId": "ec09d277-5547-4e6e-d5ee-5952fdc0dbf1"
      },
      "execution_count": 27,
      "outputs": [
        {
          "output_type": "stream",
          "name": "stdout",
          "text": [
            "6\n"
          ]
        }
      ]
    },
    {
      "cell_type": "code",
      "source": [
        "b/=3\n",
        "print(b)"
      ],
      "metadata": {
        "colab": {
          "base_uri": "https://localhost:8080/"
        },
        "id": "JgdZQ4tC6_Y0",
        "outputId": "ecbd1ce2-0dfc-436d-aecd-bccf6e369ee3"
      },
      "execution_count": 28,
      "outputs": [
        {
          "output_type": "stream",
          "name": "stdout",
          "text": [
            "2.0\n"
          ]
        }
      ]
    },
    {
      "cell_type": "code",
      "source": [],
      "metadata": {
        "id": "ZhU-FoFe7EPS"
      },
      "execution_count": null,
      "outputs": []
    }
  ]
}