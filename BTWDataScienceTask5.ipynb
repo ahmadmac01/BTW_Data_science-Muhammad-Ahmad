{
  "nbformat": 4,
  "nbformat_minor": 0,
  "metadata": {
    "colab": {
      "provenance": []
    },
    "kernelspec": {
      "name": "python3",
      "display_name": "Python 3"
    },
    "language_info": {
      "name": "python"
    }
  },
  "cells": [
    {
      "cell_type": "markdown",
      "source": [
        "# List"
      ],
      "metadata": {
        "id": "uNlW5j6j8K41"
      }
    },
    {
      "cell_type": "code",
      "execution_count": 1,
      "metadata": {
        "colab": {
          "base_uri": "https://localhost:8080/"
        },
        "id": "jQty5Rc87zit",
        "outputId": "3ccb4d7b-235e-4c67-b89d-bfed08ccc042"
      },
      "outputs": [
        {
          "output_type": "stream",
          "name": "stdout",
          "text": [
            "['trek', 'cannondale', 'redline', 'specialized']\n"
          ]
        }
      ],
      "source": [
        "bicycles = ['trek', 'cannondale', 'redline', 'specialized']\n",
        "\n",
        "print(bicycles)"
      ]
    },
    {
      "cell_type": "code",
      "source": [
        "bicycles = ['trek', 'cannondale', 'redline', 'specialized']\n",
        "print(bicycles[0])"
      ],
      "metadata": {
        "colab": {
          "base_uri": "https://localhost:8080/"
        },
        "id": "BHOX1H1B8ZlD",
        "outputId": "5ca154ea-62f7-4e29-d774-25027bba26b6"
      },
      "execution_count": 2,
      "outputs": [
        {
          "output_type": "stream",
          "name": "stdout",
          "text": [
            "trek\n"
          ]
        }
      ]
    },
    {
      "cell_type": "code",
      "source": [
        "bicycles = ['trek', 'cannondale', 'redline', 'specialized']\n",
        "print(bicycles[2])"
      ],
      "metadata": {
        "colab": {
          "base_uri": "https://localhost:8080/"
        },
        "id": "YW-jLzDC8kxF",
        "outputId": "561bc947-3afb-4760-bb96-2bff5f7829e8"
      },
      "execution_count": 3,
      "outputs": [
        {
          "output_type": "stream",
          "name": "stdout",
          "text": [
            "redline\n"
          ]
        }
      ]
    },
    {
      "cell_type": "code",
      "source": [
        "print(bicycles[0].title())"
      ],
      "metadata": {
        "colab": {
          "base_uri": "https://localhost:8080/"
        },
        "id": "PXLitySu8n37",
        "outputId": "5e2922c6-008d-4a71-9481-d3d298b071ed"
      },
      "execution_count": 4,
      "outputs": [
        {
          "output_type": "stream",
          "name": "stdout",
          "text": [
            "Trek\n"
          ]
        }
      ]
    },
    {
      "cell_type": "code",
      "source": [
        "print(bicycles[1])\n",
        "print(bicycles[3])"
      ],
      "metadata": {
        "colab": {
          "base_uri": "https://localhost:8080/"
        },
        "id": "n1QNvITF8rgR",
        "outputId": "bb70b7df-6229-4752-9e0f-dd322b25a0bb"
      },
      "execution_count": 5,
      "outputs": [
        {
          "output_type": "stream",
          "name": "stdout",
          "text": [
            "cannondale\n",
            "specialized\n"
          ]
        }
      ]
    },
    {
      "cell_type": "code",
      "source": [
        "print(bicycles[-1])"
      ],
      "metadata": {
        "colab": {
          "base_uri": "https://localhost:8080/"
        },
        "id": "kY7X8V-j8umf",
        "outputId": "1cd1f14f-7b37-4319-9dde-653dd02126fb"
      },
      "execution_count": 6,
      "outputs": [
        {
          "output_type": "stream",
          "name": "stdout",
          "text": [
            "specialized\n"
          ]
        }
      ]
    },
    {
      "cell_type": "code",
      "source": [
        "message = \"My first bicycle was a \" + bicycles[0].title() + \".\"\n",
        "print(message)"
      ],
      "metadata": {
        "colab": {
          "base_uri": "https://localhost:8080/"
        },
        "id": "U0TvinDG8xHG",
        "outputId": "91bd2d6b-a35d-43fe-df1c-41b5f467d99f"
      },
      "execution_count": 7,
      "outputs": [
        {
          "output_type": "stream",
          "name": "stdout",
          "text": [
            "My first bicycle was a Trek.\n"
          ]
        }
      ]
    },
    {
      "cell_type": "code",
      "source": [
        "# 3.1\n",
        "names= [\"ALi\",\"Hassan\",\"Hussain\"]\n",
        "print(names[0])\n",
        "print(names[1])\n",
        "print(names[2])\n"
      ],
      "metadata": {
        "colab": {
          "base_uri": "https://localhost:8080/"
        },
        "id": "ZRIbhh8E81am",
        "outputId": "19888a53-3180-4eec-85e3-c00650ede375"
      },
      "execution_count": 8,
      "outputs": [
        {
          "output_type": "stream",
          "name": "stdout",
          "text": [
            "ALi\n",
            "Hassan\n",
            "Hussain\n"
          ]
        }
      ]
    },
    {
      "cell_type": "code",
      "source": [
        "print(\"Hello \"+names[1].title())"
      ],
      "metadata": {
        "colab": {
          "base_uri": "https://localhost:8080/"
        },
        "id": "CwIAnziH9LC3",
        "outputId": "e42ebafe-7754-4948-9078-879ef74cc277"
      },
      "execution_count": 9,
      "outputs": [
        {
          "output_type": "stream",
          "name": "stdout",
          "text": [
            "Hello Hassan\n"
          ]
        }
      ]
    },
    {
      "cell_type": "code",
      "source": [
        "print(\"Hello \"+names[0].title())"
      ],
      "metadata": {
        "colab": {
          "base_uri": "https://localhost:8080/"
        },
        "id": "CHMkYN_I9dWu",
        "outputId": "93347f92-6a40-4745-bb96-997887819d6a"
      },
      "execution_count": 10,
      "outputs": [
        {
          "output_type": "stream",
          "name": "stdout",
          "text": [
            "Hello Ali\n"
          ]
        }
      ]
    },
    {
      "cell_type": "code",
      "source": [
        "print(\"Hello \"+names[2].title())"
      ],
      "metadata": {
        "colab": {
          "base_uri": "https://localhost:8080/"
        },
        "id": "9SHHjmRY9fCS",
        "outputId": "5b2f21ab-46be-4ee2-c930-7812296e4bde"
      },
      "execution_count": 11,
      "outputs": [
        {
          "output_type": "stream",
          "name": "stdout",
          "text": [
            "Hello Hussain\n"
          ]
        }
      ]
    },
    {
      "cell_type": "code",
      "source": [
        "items= ['Honda','Toyota','Nissan']\n",
        "print(f\"I would like to own a {items[0]}\")\n",
        "print(f\"I would like to own a {items[1]}\")\n",
        "print(f\"I would like to own a {items[2]}\")"
      ],
      "metadata": {
        "colab": {
          "base_uri": "https://localhost:8080/"
        },
        "id": "IpCNA0FK9g2f",
        "outputId": "2c0716c8-05af-42c9-83ed-f3aeb55f9826"
      },
      "execution_count": 12,
      "outputs": [
        {
          "output_type": "stream",
          "name": "stdout",
          "text": [
            "I would like to own a Honda\n",
            "I would like to own a Toyota\n",
            "I would like to own a Nissan\n"
          ]
        }
      ]
    },
    {
      "cell_type": "code",
      "source": [
        "motorcycles = ['honda', 'yamaha', 'suzuki']\n",
        "\n",
        "print(motorcycles)\n",
        "motorcycles[0] = 'ducati'\n",
        "print(motorcycles)"
      ],
      "metadata": {
        "colab": {
          "base_uri": "https://localhost:8080/"
        },
        "id": "PccvUf8q9tTS",
        "outputId": "ad0478ad-070b-406d-a697-3c81222ba055"
      },
      "execution_count": 13,
      "outputs": [
        {
          "output_type": "stream",
          "name": "stdout",
          "text": [
            "['honda', 'yamaha', 'suzuki']\n",
            "['ducati', 'yamaha', 'suzuki']\n"
          ]
        }
      ]
    },
    {
      "cell_type": "code",
      "source": [
        "motorcycles.append('ducati')\n",
        "print(motorcycles)"
      ],
      "metadata": {
        "colab": {
          "base_uri": "https://localhost:8080/"
        },
        "id": "HWtKGxDD94xh",
        "outputId": "1b69b0ec-9ced-41b4-c57f-3537efb29dda"
      },
      "execution_count": 14,
      "outputs": [
        {
          "output_type": "stream",
          "name": "stdout",
          "text": [
            "['ducati', 'yamaha', 'suzuki', 'ducati']\n"
          ]
        }
      ]
    },
    {
      "cell_type": "code",
      "source": [
        "motorcycles = []\n",
        "motorcycles.append('honda')\n",
        "motorcycles.append('yamaha')\n",
        "motorcycles.append('suzuki')\n",
        "print(motorcycles)"
      ],
      "metadata": {
        "colab": {
          "base_uri": "https://localhost:8080/"
        },
        "id": "RwalpdwW981Y",
        "outputId": "9c26b473-2f00-4d84-b131-314e9c0ece09"
      },
      "execution_count": 15,
      "outputs": [
        {
          "output_type": "stream",
          "name": "stdout",
          "text": [
            "['honda', 'yamaha', 'suzuki']\n"
          ]
        }
      ]
    },
    {
      "cell_type": "code",
      "source": [
        "motorcycles = ['honda', 'yamaha', 'suzuki']\n",
        "motorcycles.insert(0, 'ducati')\n",
        "print(motorcycles)"
      ],
      "metadata": {
        "colab": {
          "base_uri": "https://localhost:8080/"
        },
        "id": "TvIYFnLd_EyB",
        "outputId": "f3a1a236-3deb-4839-8f59-d7ea021ec76a"
      },
      "execution_count": 16,
      "outputs": [
        {
          "output_type": "stream",
          "name": "stdout",
          "text": [
            "['ducati', 'honda', 'yamaha', 'suzuki']\n"
          ]
        }
      ]
    },
    {
      "cell_type": "code",
      "source": [
        "motorcycles = ['honda', 'yamaha', 'suzuki']\n",
        "print(motorcycles)\n",
        "del motorcycles[0]\n",
        "print(motorcycles)"
      ],
      "metadata": {
        "colab": {
          "base_uri": "https://localhost:8080/"
        },
        "id": "LyT-PStB_I1U",
        "outputId": "efa570b0-e287-402b-f30b-ba3944b7a0ba"
      },
      "execution_count": 17,
      "outputs": [
        {
          "output_type": "stream",
          "name": "stdout",
          "text": [
            "['honda', 'yamaha', 'suzuki']\n",
            "['yamaha', 'suzuki']\n"
          ]
        }
      ]
    },
    {
      "cell_type": "code",
      "source": [
        "first_owned = motorcycles.pop(0)\n",
        "print('The first motorcycle I owned was a ' + first_owned.title() + '.')"
      ],
      "metadata": {
        "colab": {
          "base_uri": "https://localhost:8080/"
        },
        "id": "zKP-1NSg_Mt0",
        "outputId": "16026f73-2bd5-4370-e230-939e98095d2f"
      },
      "execution_count": 18,
      "outputs": [
        {
          "output_type": "stream",
          "name": "stdout",
          "text": [
            "The first motorcycle I owned was a Yamaha.\n"
          ]
        }
      ]
    },
    {
      "cell_type": "code",
      "source": [
        "motorcycles = ['honda', 'yamaha', 'suzuki', 'ducati']\n",
        "print(motorcycles)\n",
        "motorcycles.remove('ducati')\n",
        "print(motorcycles)"
      ],
      "metadata": {
        "colab": {
          "base_uri": "https://localhost:8080/"
        },
        "id": "vuRpiPCK_Z8K",
        "outputId": "a4219ee9-5510-410d-8ab2-83ca5752cb26"
      },
      "execution_count": 19,
      "outputs": [
        {
          "output_type": "stream",
          "name": "stdout",
          "text": [
            "['honda', 'yamaha', 'suzuki', 'ducati']\n",
            "['honda', 'yamaha', 'suzuki']\n"
          ]
        }
      ]
    },
    {
      "cell_type": "code",
      "source": [
        "guests = [\"Ali\", \"Hamza\", \"Saif\"]\n",
        "\n",
        "for guest in guests:\n",
        "    print(f\"Dear {guest}, you are cordially invited to dinner at my place!\")\n",
        "\n",
        "guest_unavailable = \"Ali\"\n",
        "print(f\"\\nUnfortunately, {guest_unavailable} can't make it to dinner.\")\n",
        "\n",
        "new_invitee = \"Hassan\"\n",
        "guests[guests.index(guest_unavailable)] = new_invitee\n",
        "\n",
        "print(\"\\nUpdated invitations:\")\n",
        "for guest in guests:\n",
        "    print(f\"Dear {guest}, you are cordially invited to dinner at my place!\")\n",
        "\n",
        "print(\"\\nGood news! I found a bigger dinner table.\")\n",
        "guests.insert(0, \"Arif\")\n",
        "guests.insert(len(guests) // 2, \"Basit\")\n",
        "guests.append(\"Rafay\")\n",
        "\n",
        "print(\"\\nFinal invitations:\")\n",
        "for guest in guests:\n",
        "    print(f\"Dear {guest}, you are cordially invited to dinner at my place!\")\n"
      ],
      "metadata": {
        "colab": {
          "base_uri": "https://localhost:8080/"
        },
        "id": "YNa0Hqev_xEW",
        "outputId": "d7982c8f-396a-4a81-bbd2-d8b42452279a"
      },
      "execution_count": 21,
      "outputs": [
        {
          "output_type": "stream",
          "name": "stdout",
          "text": [
            "Dear Ali, you are cordially invited to dinner at my place!\n",
            "Dear Hamza, you are cordially invited to dinner at my place!\n",
            "Dear Saif, you are cordially invited to dinner at my place!\n",
            "\n",
            "Unfortunately, Ali can't make it to dinner.\n",
            "\n",
            "Updated invitations:\n",
            "Dear Hassan, you are cordially invited to dinner at my place!\n",
            "Dear Hamza, you are cordially invited to dinner at my place!\n",
            "Dear Saif, you are cordially invited to dinner at my place!\n",
            "\n",
            "Good news! I found a bigger dinner table.\n",
            "\n",
            "Final invitations:\n",
            "Dear Arif, you are cordially invited to dinner at my place!\n",
            "Dear Hassan, you are cordially invited to dinner at my place!\n",
            "Dear Basit, you are cordially invited to dinner at my place!\n",
            "Dear Hamza, you are cordially invited to dinner at my place!\n",
            "Dear Saif, you are cordially invited to dinner at my place!\n",
            "Dear Rafay, you are cordially invited to dinner at my place!\n"
          ]
        }
      ]
    },
    {
      "cell_type": "code",
      "source": [
        "cars = ['bmw', 'audi', 'toyota', 'subaru']\n",
        "cars.sort()\n",
        "print(cars)"
      ],
      "metadata": {
        "colab": {
          "base_uri": "https://localhost:8080/"
        },
        "id": "XYQABYXuAkXj",
        "outputId": "991b6fb9-fb6f-46b5-ffe2-a4fc703b1713"
      },
      "execution_count": 22,
      "outputs": [
        {
          "output_type": "stream",
          "name": "stdout",
          "text": [
            "['audi', 'bmw', 'subaru', 'toyota']\n"
          ]
        }
      ]
    },
    {
      "cell_type": "code",
      "source": [
        "cars.sort(reverse=True)\n",
        "print(cars)"
      ],
      "metadata": {
        "colab": {
          "base_uri": "https://localhost:8080/"
        },
        "id": "lr1kdqbJAwQ6",
        "outputId": "64c2a35e-962a-4603-c4d0-c1ec7df67712"
      },
      "execution_count": 23,
      "outputs": [
        {
          "output_type": "stream",
          "name": "stdout",
          "text": [
            "['toyota', 'subaru', 'bmw', 'audi']\n"
          ]
        }
      ]
    },
    {
      "cell_type": "code",
      "source": [
        "print(\"Here is the original list:\")\n",
        "print(cars)\n",
        "print(\"\\nHere is the sorted list:\")\n",
        "print(sorted(cars))\n",
        "print(\"\\nHere is the original list again:\")\n",
        "print(cars)"
      ],
      "metadata": {
        "colab": {
          "base_uri": "https://localhost:8080/"
        },
        "id": "9jcpsOijAy2K",
        "outputId": "eac0cd48-e24c-41ed-b671-a214968e98b0"
      },
      "execution_count": 24,
      "outputs": [
        {
          "output_type": "stream",
          "name": "stdout",
          "text": [
            "Here is the original list:\n",
            "['toyota', 'subaru', 'bmw', 'audi']\n",
            "\n",
            "Here is the sorted list:\n",
            "['audi', 'bmw', 'subaru', 'toyota']\n",
            "\n",
            "Here is the original list again:\n",
            "['toyota', 'subaru', 'bmw', 'audi']\n"
          ]
        }
      ]
    },
    {
      "cell_type": "code",
      "source": [
        "cars.reverse()\n",
        "print(cars)"
      ],
      "metadata": {
        "colab": {
          "base_uri": "https://localhost:8080/"
        },
        "id": "ivWgxW7SA3fF",
        "outputId": "76c12a5b-9aaa-48ee-d2f9-5b3be42ee45f"
      },
      "execution_count": 25,
      "outputs": [
        {
          "output_type": "stream",
          "name": "stdout",
          "text": [
            "['audi', 'bmw', 'subaru', 'toyota']\n"
          ]
        }
      ]
    },
    {
      "cell_type": "code",
      "source": [
        "cars = ['bmw', 'audi', 'toyota', 'subaru']\n",
        "len(cars)"
      ],
      "metadata": {
        "colab": {
          "base_uri": "https://localhost:8080/"
        },
        "id": "d39sXjeoA76d",
        "outputId": "9cda1c38-ec08-4b98-a4eb-a9ab7cc6fb7b"
      },
      "execution_count": 26,
      "outputs": [
        {
          "output_type": "execute_result",
          "data": {
            "text/plain": [
              "4"
            ]
          },
          "metadata": {},
          "execution_count": 26
        }
      ]
    },
    {
      "cell_type": "code",
      "source": [],
      "metadata": {
        "id": "0SO8PuFxBLNw"
      },
      "execution_count": null,
      "outputs": []
    }
  ]
}